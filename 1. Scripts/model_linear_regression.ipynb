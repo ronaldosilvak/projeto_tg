{
 "cells": [
  {
   "cell_type": "code",
   "execution_count": 135,
   "id": "1d7bba58",
   "metadata": {},
   "outputs": [],
   "source": [
    "import pandas as pd"
   ]
  },
  {
   "cell_type": "code",
   "execution_count": 136,
   "id": "d09d55a7",
   "metadata": {},
   "outputs": [
    {
     "name": "stderr",
     "output_type": "stream",
     "text": [
      "C:\\Users\\Ronaldo\\AppData\\Local\\Temp\\ipykernel_19460\\3764384530.py:1: DtypeWarning: Columns (13) have mixed types. Specify dtype option on import or set low_memory=False.\n",
      "  df = pd.read_csv('../2. bases/dados_combinados.csv', encoding='utf-8-sig')\n"
     ]
    },
    {
     "data": {
      "text/html": [
       "<div>\n",
       "<style scoped>\n",
       "    .dataframe tbody tr th:only-of-type {\n",
       "        vertical-align: middle;\n",
       "    }\n",
       "\n",
       "    .dataframe tbody tr th {\n",
       "        vertical-align: top;\n",
       "    }\n",
       "\n",
       "    .dataframe thead th {\n",
       "        text-align: right;\n",
       "    }\n",
       "</style>\n",
       "<table border=\"1\" class=\"dataframe\">\n",
       "  <thead>\n",
       "    <tr style=\"text-align: right;\">\n",
       "      <th></th>\n",
       "      <th>ï»¿Regiao - Sigla</th>\n",
       "      <th>Estado - Sigla</th>\n",
       "      <th>Municipio</th>\n",
       "      <th>Revenda</th>\n",
       "      <th>CNPJ da Revenda</th>\n",
       "      <th>Nome da Rua</th>\n",
       "      <th>Numero Rua</th>\n",
       "      <th>Complemento</th>\n",
       "      <th>Bairro</th>\n",
       "      <th>Cep</th>\n",
       "      <th>Produto</th>\n",
       "      <th>Data da Coleta</th>\n",
       "      <th>Valor de Venda</th>\n",
       "      <th>Valor de Compra</th>\n",
       "      <th>Unidade de Medida</th>\n",
       "      <th>Bandeira</th>\n",
       "    </tr>\n",
       "  </thead>\n",
       "  <tbody>\n",
       "    <tr>\n",
       "      <th>0</th>\n",
       "      <td>SE</td>\n",
       "      <td>SP</td>\n",
       "      <td>GUARULHOS</td>\n",
       "      <td>AUTO POSTO SAKAMOTO LTDA</td>\n",
       "      <td>49.051.667/0001-02</td>\n",
       "      <td>RODOVIA PRESIDENTE DUTRA</td>\n",
       "      <td>S/N</td>\n",
       "      <td>KM 210,5-SENT SP/RJ</td>\n",
       "      <td>BONSUCESSO</td>\n",
       "      <td>07178-580</td>\n",
       "      <td>GASOLINA</td>\n",
       "      <td>03/01/2020</td>\n",
       "      <td>4,399</td>\n",
       "      <td>NaN</td>\n",
       "      <td>R$ / litro</td>\n",
       "      <td>PETROBRAS DISTRIBUIDORA S.A.</td>\n",
       "    </tr>\n",
       "    <tr>\n",
       "      <th>1</th>\n",
       "      <td>SE</td>\n",
       "      <td>SP</td>\n",
       "      <td>GUARULHOS</td>\n",
       "      <td>AUTO POSTO SAKAMOTO LTDA</td>\n",
       "      <td>49.051.667/0001-02</td>\n",
       "      <td>RODOVIA PRESIDENTE DUTRA</td>\n",
       "      <td>S/N</td>\n",
       "      <td>KM 210,5-SENT SP/RJ</td>\n",
       "      <td>BONSUCESSO</td>\n",
       "      <td>07178-580</td>\n",
       "      <td>ETANOL</td>\n",
       "      <td>03/01/2020</td>\n",
       "      <td>3,199</td>\n",
       "      <td>NaN</td>\n",
       "      <td>R$ / litro</td>\n",
       "      <td>PETROBRAS DISTRIBUIDORA S.A.</td>\n",
       "    </tr>\n",
       "  </tbody>\n",
       "</table>\n",
       "</div>"
      ],
      "text/plain": [
       "  ï»¿Regiao - Sigla Estado - Sigla  Municipio                   Revenda  \\\n",
       "0                SE             SP  GUARULHOS  AUTO POSTO SAKAMOTO LTDA   \n",
       "1                SE             SP  GUARULHOS  AUTO POSTO SAKAMOTO LTDA   \n",
       "\n",
       "       CNPJ da Revenda               Nome da Rua Numero Rua  \\\n",
       "0   49.051.667/0001-02  RODOVIA PRESIDENTE DUTRA        S/N   \n",
       "1   49.051.667/0001-02  RODOVIA PRESIDENTE DUTRA        S/N   \n",
       "\n",
       "           Complemento      Bairro        Cep   Produto Data da Coleta  \\\n",
       "0  KM 210,5-SENT SP/RJ  BONSUCESSO  07178-580  GASOLINA     03/01/2020   \n",
       "1  KM 210,5-SENT SP/RJ  BONSUCESSO  07178-580    ETANOL     03/01/2020   \n",
       "\n",
       "  Valor de Venda Valor de Compra Unidade de Medida  \\\n",
       "0          4,399             NaN        R$ / litro   \n",
       "1          3,199             NaN        R$ / litro   \n",
       "\n",
       "                       Bandeira  \n",
       "0  PETROBRAS DISTRIBUIDORA S.A.  \n",
       "1  PETROBRAS DISTRIBUIDORA S.A.  "
      ]
     },
     "execution_count": 136,
     "metadata": {},
     "output_type": "execute_result"
    }
   ],
   "source": [
    "df = pd.read_csv('../2. bases/dados_combinados.csv', encoding='utf-8-sig')\n",
    "df.head(2)"
   ]
  },
  {
   "cell_type": "code",
   "execution_count": 137,
   "id": "1564fe61",
   "metadata": {},
   "outputs": [],
   "source": [
    "df.rename(columns={\n",
    "    'ï»¿Regiao - Sigla': 'regiao',\n",
    "    'Estado - Sigla': 'estado'\n",
    "}, inplace=True)\n"
   ]
  },
  {
   "cell_type": "markdown",
   "id": "5de5275f",
   "metadata": {},
   "source": [
    "### Pré-processamento"
   ]
  },
  {
   "cell_type": "markdown",
   "id": "d988d1d9",
   "metadata": {},
   "source": [
    "Alterando tipos de dados"
   ]
  },
  {
   "cell_type": "code",
   "execution_count": 138,
   "id": "f5799dbb",
   "metadata": {},
   "outputs": [
    {
     "name": "stdout",
     "output_type": "stream",
     "text": [
      "<class 'pandas.core.frame.DataFrame'>\n",
      "RangeIndex: 719300 entries, 0 to 719299\n",
      "Data columns (total 16 columns):\n",
      " #   Column             Non-Null Count   Dtype \n",
      "---  ------             --------------   ----- \n",
      " 0   regiao             719300 non-null  object\n",
      " 1   estado             719300 non-null  object\n",
      " 2   Municipio          719300 non-null  object\n",
      " 3   Revenda            719300 non-null  object\n",
      " 4   CNPJ da Revenda    719300 non-null  object\n",
      " 5   Nome da Rua        719300 non-null  object\n",
      " 6   Numero Rua         718781 non-null  object\n",
      " 7   Complemento        184202 non-null  object\n",
      " 8   Bairro             716694 non-null  object\n",
      " 9   Cep                719300 non-null  object\n",
      " 10  Produto            719300 non-null  object\n",
      " 11  Data da Coleta     719300 non-null  object\n",
      " 12  Valor de Venda     719300 non-null  object\n",
      " 13  Valor de Compra    156012 non-null  object\n",
      " 14  Unidade de Medida  719300 non-null  object\n",
      " 15  Bandeira           719300 non-null  object\n",
      "dtypes: object(16)\n",
      "memory usage: 87.8+ MB\n"
     ]
    }
   ],
   "source": [
    "df.info()"
   ]
  },
  {
   "cell_type": "code",
   "execution_count": 139,
   "id": "e6dff218",
   "metadata": {},
   "outputs": [],
   "source": [
    "df['Valor de Compra'] = df['Valor de Compra'].str.replace(',', '.').astype(float)\n",
    "df['Valor de Venda'] = df['Valor de Venda'].str.replace(',', '.').astype(float)"
   ]
  },
  {
   "cell_type": "markdown",
   "id": "650daa2e",
   "metadata": {},
   "source": [
    "Aplicando OneHotEncoding"
   ]
  },
  {
   "cell_type": "code",
   "execution_count": 140,
   "id": "f43afcdb",
   "metadata": {},
   "outputs": [],
   "source": [
    "colunas_features = ['regiao', 'estado', 'Bandeira', 'Produto']"
   ]
  },
  {
   "cell_type": "code",
   "execution_count": 141,
   "id": "2642eddc",
   "metadata": {},
   "outputs": [],
   "source": [
    "df_encoded = pd.get_dummies(df[colunas_features])"
   ]
  },
  {
   "cell_type": "markdown",
   "id": "b498f480",
   "metadata": {},
   "source": [
    "Separando variáveis de train e test"
   ]
  },
  {
   "cell_type": "code",
   "execution_count": 142,
   "id": "dcdd2664",
   "metadata": {},
   "outputs": [],
   "source": [
    "from sklearn.model_selection import train_test_split"
   ]
  },
  {
   "cell_type": "code",
   "execution_count": 143,
   "id": "ceb97282",
   "metadata": {},
   "outputs": [],
   "source": [
    "X = df_encoded\n",
    "y = df['Valor de Venda']"
   ]
  },
  {
   "cell_type": "code",
   "execution_count": 144,
   "id": "70bb3f55",
   "metadata": {},
   "outputs": [],
   "source": [
    "X_train, X_test, y_train, y_test = train_test_split(X, y, test_size=0.3, random_state=2811)"
   ]
  },
  {
   "cell_type": "code",
   "execution_count": 145,
   "id": "d5b44ea3",
   "metadata": {},
   "outputs": [
    {
     "data": {
      "text/plain": [
       "(503510, 97)"
      ]
     },
     "execution_count": 145,
     "metadata": {},
     "output_type": "execute_result"
    }
   ],
   "source": [
    "X_train.shape"
   ]
  },
  {
   "cell_type": "code",
   "execution_count": 146,
   "id": "1edb59c6",
   "metadata": {},
   "outputs": [
    {
     "data": {
      "text/plain": [
       "(215790, 97)"
      ]
     },
     "execution_count": 146,
     "metadata": {},
     "output_type": "execute_result"
    }
   ],
   "source": [
    "X_test.shape"
   ]
  },
  {
   "cell_type": "markdown",
   "id": "014b2b88",
   "metadata": {},
   "source": [
    "Aplicando modelo de regressão linear"
   ]
  },
  {
   "cell_type": "code",
   "execution_count": 147,
   "id": "aa81099e",
   "metadata": {},
   "outputs": [],
   "source": [
    "from sklearn.linear_model import LinearRegression\n",
    "from sklearn import metrics"
   ]
  },
  {
   "cell_type": "code",
   "execution_count": 148,
   "id": "4207b9d5",
   "metadata": {},
   "outputs": [],
   "source": [
    "model_regression = LinearRegression()"
   ]
  },
  {
   "cell_type": "code",
   "execution_count": 149,
   "id": "aa38979c",
   "metadata": {},
   "outputs": [
    {
     "data": {
      "text/html": [
       "<style>#sk-container-id-5 {\n",
       "  /* Definition of color scheme common for light and dark mode */\n",
       "  --sklearn-color-text: #000;\n",
       "  --sklearn-color-text-muted: #666;\n",
       "  --sklearn-color-line: gray;\n",
       "  /* Definition of color scheme for unfitted estimators */\n",
       "  --sklearn-color-unfitted-level-0: #fff5e6;\n",
       "  --sklearn-color-unfitted-level-1: #f6e4d2;\n",
       "  --sklearn-color-unfitted-level-2: #ffe0b3;\n",
       "  --sklearn-color-unfitted-level-3: chocolate;\n",
       "  /* Definition of color scheme for fitted estimators */\n",
       "  --sklearn-color-fitted-level-0: #f0f8ff;\n",
       "  --sklearn-color-fitted-level-1: #d4ebff;\n",
       "  --sklearn-color-fitted-level-2: #b3dbfd;\n",
       "  --sklearn-color-fitted-level-3: cornflowerblue;\n",
       "\n",
       "  /* Specific color for light theme */\n",
       "  --sklearn-color-text-on-default-background: var(--sg-text-color, var(--theme-code-foreground, var(--jp-content-font-color1, black)));\n",
       "  --sklearn-color-background: var(--sg-background-color, var(--theme-background, var(--jp-layout-color0, white)));\n",
       "  --sklearn-color-border-box: var(--sg-text-color, var(--theme-code-foreground, var(--jp-content-font-color1, black)));\n",
       "  --sklearn-color-icon: #696969;\n",
       "\n",
       "  @media (prefers-color-scheme: dark) {\n",
       "    /* Redefinition of color scheme for dark theme */\n",
       "    --sklearn-color-text-on-default-background: var(--sg-text-color, var(--theme-code-foreground, var(--jp-content-font-color1, white)));\n",
       "    --sklearn-color-background: var(--sg-background-color, var(--theme-background, var(--jp-layout-color0, #111)));\n",
       "    --sklearn-color-border-box: var(--sg-text-color, var(--theme-code-foreground, var(--jp-content-font-color1, white)));\n",
       "    --sklearn-color-icon: #878787;\n",
       "  }\n",
       "}\n",
       "\n",
       "#sk-container-id-5 {\n",
       "  color: var(--sklearn-color-text);\n",
       "}\n",
       "\n",
       "#sk-container-id-5 pre {\n",
       "  padding: 0;\n",
       "}\n",
       "\n",
       "#sk-container-id-5 input.sk-hidden--visually {\n",
       "  border: 0;\n",
       "  clip: rect(1px 1px 1px 1px);\n",
       "  clip: rect(1px, 1px, 1px, 1px);\n",
       "  height: 1px;\n",
       "  margin: -1px;\n",
       "  overflow: hidden;\n",
       "  padding: 0;\n",
       "  position: absolute;\n",
       "  width: 1px;\n",
       "}\n",
       "\n",
       "#sk-container-id-5 div.sk-dashed-wrapped {\n",
       "  border: 1px dashed var(--sklearn-color-line);\n",
       "  margin: 0 0.4em 0.5em 0.4em;\n",
       "  box-sizing: border-box;\n",
       "  padding-bottom: 0.4em;\n",
       "  background-color: var(--sklearn-color-background);\n",
       "}\n",
       "\n",
       "#sk-container-id-5 div.sk-container {\n",
       "  /* jupyter's `normalize.less` sets `[hidden] { display: none; }`\n",
       "     but bootstrap.min.css set `[hidden] { display: none !important; }`\n",
       "     so we also need the `!important` here to be able to override the\n",
       "     default hidden behavior on the sphinx rendered scikit-learn.org.\n",
       "     See: https://github.com/scikit-learn/scikit-learn/issues/21755 */\n",
       "  display: inline-block !important;\n",
       "  position: relative;\n",
       "}\n",
       "\n",
       "#sk-container-id-5 div.sk-text-repr-fallback {\n",
       "  display: none;\n",
       "}\n",
       "\n",
       "div.sk-parallel-item,\n",
       "div.sk-serial,\n",
       "div.sk-item {\n",
       "  /* draw centered vertical line to link estimators */\n",
       "  background-image: linear-gradient(var(--sklearn-color-text-on-default-background), var(--sklearn-color-text-on-default-background));\n",
       "  background-size: 2px 100%;\n",
       "  background-repeat: no-repeat;\n",
       "  background-position: center center;\n",
       "}\n",
       "\n",
       "/* Parallel-specific style estimator block */\n",
       "\n",
       "#sk-container-id-5 div.sk-parallel-item::after {\n",
       "  content: \"\";\n",
       "  width: 100%;\n",
       "  border-bottom: 2px solid var(--sklearn-color-text-on-default-background);\n",
       "  flex-grow: 1;\n",
       "}\n",
       "\n",
       "#sk-container-id-5 div.sk-parallel {\n",
       "  display: flex;\n",
       "  align-items: stretch;\n",
       "  justify-content: center;\n",
       "  background-color: var(--sklearn-color-background);\n",
       "  position: relative;\n",
       "}\n",
       "\n",
       "#sk-container-id-5 div.sk-parallel-item {\n",
       "  display: flex;\n",
       "  flex-direction: column;\n",
       "}\n",
       "\n",
       "#sk-container-id-5 div.sk-parallel-item:first-child::after {\n",
       "  align-self: flex-end;\n",
       "  width: 50%;\n",
       "}\n",
       "\n",
       "#sk-container-id-5 div.sk-parallel-item:last-child::after {\n",
       "  align-self: flex-start;\n",
       "  width: 50%;\n",
       "}\n",
       "\n",
       "#sk-container-id-5 div.sk-parallel-item:only-child::after {\n",
       "  width: 0;\n",
       "}\n",
       "\n",
       "/* Serial-specific style estimator block */\n",
       "\n",
       "#sk-container-id-5 div.sk-serial {\n",
       "  display: flex;\n",
       "  flex-direction: column;\n",
       "  align-items: center;\n",
       "  background-color: var(--sklearn-color-background);\n",
       "  padding-right: 1em;\n",
       "  padding-left: 1em;\n",
       "}\n",
       "\n",
       "\n",
       "/* Toggleable style: style used for estimator/Pipeline/ColumnTransformer box that is\n",
       "clickable and can be expanded/collapsed.\n",
       "- Pipeline and ColumnTransformer use this feature and define the default style\n",
       "- Estimators will overwrite some part of the style using the `sk-estimator` class\n",
       "*/\n",
       "\n",
       "/* Pipeline and ColumnTransformer style (default) */\n",
       "\n",
       "#sk-container-id-5 div.sk-toggleable {\n",
       "  /* Default theme specific background. It is overwritten whether we have a\n",
       "  specific estimator or a Pipeline/ColumnTransformer */\n",
       "  background-color: var(--sklearn-color-background);\n",
       "}\n",
       "\n",
       "/* Toggleable label */\n",
       "#sk-container-id-5 label.sk-toggleable__label {\n",
       "  cursor: pointer;\n",
       "  display: flex;\n",
       "  width: 100%;\n",
       "  margin-bottom: 0;\n",
       "  padding: 0.5em;\n",
       "  box-sizing: border-box;\n",
       "  text-align: center;\n",
       "  align-items: start;\n",
       "  justify-content: space-between;\n",
       "  gap: 0.5em;\n",
       "}\n",
       "\n",
       "#sk-container-id-5 label.sk-toggleable__label .caption {\n",
       "  font-size: 0.6rem;\n",
       "  font-weight: lighter;\n",
       "  color: var(--sklearn-color-text-muted);\n",
       "}\n",
       "\n",
       "#sk-container-id-5 label.sk-toggleable__label-arrow:before {\n",
       "  /* Arrow on the left of the label */\n",
       "  content: \"▸\";\n",
       "  float: left;\n",
       "  margin-right: 0.25em;\n",
       "  color: var(--sklearn-color-icon);\n",
       "}\n",
       "\n",
       "#sk-container-id-5 label.sk-toggleable__label-arrow:hover:before {\n",
       "  color: var(--sklearn-color-text);\n",
       "}\n",
       "\n",
       "/* Toggleable content - dropdown */\n",
       "\n",
       "#sk-container-id-5 div.sk-toggleable__content {\n",
       "  max-height: 0;\n",
       "  max-width: 0;\n",
       "  overflow: hidden;\n",
       "  text-align: left;\n",
       "  /* unfitted */\n",
       "  background-color: var(--sklearn-color-unfitted-level-0);\n",
       "}\n",
       "\n",
       "#sk-container-id-5 div.sk-toggleable__content.fitted {\n",
       "  /* fitted */\n",
       "  background-color: var(--sklearn-color-fitted-level-0);\n",
       "}\n",
       "\n",
       "#sk-container-id-5 div.sk-toggleable__content pre {\n",
       "  margin: 0.2em;\n",
       "  border-radius: 0.25em;\n",
       "  color: var(--sklearn-color-text);\n",
       "  /* unfitted */\n",
       "  background-color: var(--sklearn-color-unfitted-level-0);\n",
       "}\n",
       "\n",
       "#sk-container-id-5 div.sk-toggleable__content.fitted pre {\n",
       "  /* unfitted */\n",
       "  background-color: var(--sklearn-color-fitted-level-0);\n",
       "}\n",
       "\n",
       "#sk-container-id-5 input.sk-toggleable__control:checked~div.sk-toggleable__content {\n",
       "  /* Expand drop-down */\n",
       "  max-height: 200px;\n",
       "  max-width: 100%;\n",
       "  overflow: auto;\n",
       "}\n",
       "\n",
       "#sk-container-id-5 input.sk-toggleable__control:checked~label.sk-toggleable__label-arrow:before {\n",
       "  content: \"▾\";\n",
       "}\n",
       "\n",
       "/* Pipeline/ColumnTransformer-specific style */\n",
       "\n",
       "#sk-container-id-5 div.sk-label input.sk-toggleable__control:checked~label.sk-toggleable__label {\n",
       "  color: var(--sklearn-color-text);\n",
       "  background-color: var(--sklearn-color-unfitted-level-2);\n",
       "}\n",
       "\n",
       "#sk-container-id-5 div.sk-label.fitted input.sk-toggleable__control:checked~label.sk-toggleable__label {\n",
       "  background-color: var(--sklearn-color-fitted-level-2);\n",
       "}\n",
       "\n",
       "/* Estimator-specific style */\n",
       "\n",
       "/* Colorize estimator box */\n",
       "#sk-container-id-5 div.sk-estimator input.sk-toggleable__control:checked~label.sk-toggleable__label {\n",
       "  /* unfitted */\n",
       "  background-color: var(--sklearn-color-unfitted-level-2);\n",
       "}\n",
       "\n",
       "#sk-container-id-5 div.sk-estimator.fitted input.sk-toggleable__control:checked~label.sk-toggleable__label {\n",
       "  /* fitted */\n",
       "  background-color: var(--sklearn-color-fitted-level-2);\n",
       "}\n",
       "\n",
       "#sk-container-id-5 div.sk-label label.sk-toggleable__label,\n",
       "#sk-container-id-5 div.sk-label label {\n",
       "  /* The background is the default theme color */\n",
       "  color: var(--sklearn-color-text-on-default-background);\n",
       "}\n",
       "\n",
       "/* On hover, darken the color of the background */\n",
       "#sk-container-id-5 div.sk-label:hover label.sk-toggleable__label {\n",
       "  color: var(--sklearn-color-text);\n",
       "  background-color: var(--sklearn-color-unfitted-level-2);\n",
       "}\n",
       "\n",
       "/* Label box, darken color on hover, fitted */\n",
       "#sk-container-id-5 div.sk-label.fitted:hover label.sk-toggleable__label.fitted {\n",
       "  color: var(--sklearn-color-text);\n",
       "  background-color: var(--sklearn-color-fitted-level-2);\n",
       "}\n",
       "\n",
       "/* Estimator label */\n",
       "\n",
       "#sk-container-id-5 div.sk-label label {\n",
       "  font-family: monospace;\n",
       "  font-weight: bold;\n",
       "  display: inline-block;\n",
       "  line-height: 1.2em;\n",
       "}\n",
       "\n",
       "#sk-container-id-5 div.sk-label-container {\n",
       "  text-align: center;\n",
       "}\n",
       "\n",
       "/* Estimator-specific */\n",
       "#sk-container-id-5 div.sk-estimator {\n",
       "  font-family: monospace;\n",
       "  border: 1px dotted var(--sklearn-color-border-box);\n",
       "  border-radius: 0.25em;\n",
       "  box-sizing: border-box;\n",
       "  margin-bottom: 0.5em;\n",
       "  /* unfitted */\n",
       "  background-color: var(--sklearn-color-unfitted-level-0);\n",
       "}\n",
       "\n",
       "#sk-container-id-5 div.sk-estimator.fitted {\n",
       "  /* fitted */\n",
       "  background-color: var(--sklearn-color-fitted-level-0);\n",
       "}\n",
       "\n",
       "/* on hover */\n",
       "#sk-container-id-5 div.sk-estimator:hover {\n",
       "  /* unfitted */\n",
       "  background-color: var(--sklearn-color-unfitted-level-2);\n",
       "}\n",
       "\n",
       "#sk-container-id-5 div.sk-estimator.fitted:hover {\n",
       "  /* fitted */\n",
       "  background-color: var(--sklearn-color-fitted-level-2);\n",
       "}\n",
       "\n",
       "/* Specification for estimator info (e.g. \"i\" and \"?\") */\n",
       "\n",
       "/* Common style for \"i\" and \"?\" */\n",
       "\n",
       ".sk-estimator-doc-link,\n",
       "a:link.sk-estimator-doc-link,\n",
       "a:visited.sk-estimator-doc-link {\n",
       "  float: right;\n",
       "  font-size: smaller;\n",
       "  line-height: 1em;\n",
       "  font-family: monospace;\n",
       "  background-color: var(--sklearn-color-background);\n",
       "  border-radius: 1em;\n",
       "  height: 1em;\n",
       "  width: 1em;\n",
       "  text-decoration: none !important;\n",
       "  margin-left: 0.5em;\n",
       "  text-align: center;\n",
       "  /* unfitted */\n",
       "  border: var(--sklearn-color-unfitted-level-1) 1pt solid;\n",
       "  color: var(--sklearn-color-unfitted-level-1);\n",
       "}\n",
       "\n",
       ".sk-estimator-doc-link.fitted,\n",
       "a:link.sk-estimator-doc-link.fitted,\n",
       "a:visited.sk-estimator-doc-link.fitted {\n",
       "  /* fitted */\n",
       "  border: var(--sklearn-color-fitted-level-1) 1pt solid;\n",
       "  color: var(--sklearn-color-fitted-level-1);\n",
       "}\n",
       "\n",
       "/* On hover */\n",
       "div.sk-estimator:hover .sk-estimator-doc-link:hover,\n",
       ".sk-estimator-doc-link:hover,\n",
       "div.sk-label-container:hover .sk-estimator-doc-link:hover,\n",
       ".sk-estimator-doc-link:hover {\n",
       "  /* unfitted */\n",
       "  background-color: var(--sklearn-color-unfitted-level-3);\n",
       "  color: var(--sklearn-color-background);\n",
       "  text-decoration: none;\n",
       "}\n",
       "\n",
       "div.sk-estimator.fitted:hover .sk-estimator-doc-link.fitted:hover,\n",
       ".sk-estimator-doc-link.fitted:hover,\n",
       "div.sk-label-container:hover .sk-estimator-doc-link.fitted:hover,\n",
       ".sk-estimator-doc-link.fitted:hover {\n",
       "  /* fitted */\n",
       "  background-color: var(--sklearn-color-fitted-level-3);\n",
       "  color: var(--sklearn-color-background);\n",
       "  text-decoration: none;\n",
       "}\n",
       "\n",
       "/* Span, style for the box shown on hovering the info icon */\n",
       ".sk-estimator-doc-link span {\n",
       "  display: none;\n",
       "  z-index: 9999;\n",
       "  position: relative;\n",
       "  font-weight: normal;\n",
       "  right: .2ex;\n",
       "  padding: .5ex;\n",
       "  margin: .5ex;\n",
       "  width: min-content;\n",
       "  min-width: 20ex;\n",
       "  max-width: 50ex;\n",
       "  color: var(--sklearn-color-text);\n",
       "  box-shadow: 2pt 2pt 4pt #999;\n",
       "  /* unfitted */\n",
       "  background: var(--sklearn-color-unfitted-level-0);\n",
       "  border: .5pt solid var(--sklearn-color-unfitted-level-3);\n",
       "}\n",
       "\n",
       ".sk-estimator-doc-link.fitted span {\n",
       "  /* fitted */\n",
       "  background: var(--sklearn-color-fitted-level-0);\n",
       "  border: var(--sklearn-color-fitted-level-3);\n",
       "}\n",
       "\n",
       ".sk-estimator-doc-link:hover span {\n",
       "  display: block;\n",
       "}\n",
       "\n",
       "/* \"?\"-specific style due to the `<a>` HTML tag */\n",
       "\n",
       "#sk-container-id-5 a.estimator_doc_link {\n",
       "  float: right;\n",
       "  font-size: 1rem;\n",
       "  line-height: 1em;\n",
       "  font-family: monospace;\n",
       "  background-color: var(--sklearn-color-background);\n",
       "  border-radius: 1rem;\n",
       "  height: 1rem;\n",
       "  width: 1rem;\n",
       "  text-decoration: none;\n",
       "  /* unfitted */\n",
       "  color: var(--sklearn-color-unfitted-level-1);\n",
       "  border: var(--sklearn-color-unfitted-level-1) 1pt solid;\n",
       "}\n",
       "\n",
       "#sk-container-id-5 a.estimator_doc_link.fitted {\n",
       "  /* fitted */\n",
       "  border: var(--sklearn-color-fitted-level-1) 1pt solid;\n",
       "  color: var(--sklearn-color-fitted-level-1);\n",
       "}\n",
       "\n",
       "/* On hover */\n",
       "#sk-container-id-5 a.estimator_doc_link:hover {\n",
       "  /* unfitted */\n",
       "  background-color: var(--sklearn-color-unfitted-level-3);\n",
       "  color: var(--sklearn-color-background);\n",
       "  text-decoration: none;\n",
       "}\n",
       "\n",
       "#sk-container-id-5 a.estimator_doc_link.fitted:hover {\n",
       "  /* fitted */\n",
       "  background-color: var(--sklearn-color-fitted-level-3);\n",
       "}\n",
       "</style><div id=\"sk-container-id-5\" class=\"sk-top-container\"><div class=\"sk-text-repr-fallback\"><pre>LinearRegression()</pre><b>In a Jupyter environment, please rerun this cell to show the HTML representation or trust the notebook. <br />On GitHub, the HTML representation is unable to render, please try loading this page with nbviewer.org.</b></div><div class=\"sk-container\" hidden><div class=\"sk-item\"><div class=\"sk-estimator fitted sk-toggleable\"><input class=\"sk-toggleable__control sk-hidden--visually\" id=\"sk-estimator-id-5\" type=\"checkbox\" checked><label for=\"sk-estimator-id-5\" class=\"sk-toggleable__label fitted sk-toggleable__label-arrow\"><div><div>LinearRegression</div></div><div><a class=\"sk-estimator-doc-link fitted\" rel=\"noreferrer\" target=\"_blank\" href=\"https://scikit-learn.org/1.6/modules/generated/sklearn.linear_model.LinearRegression.html\">?<span>Documentation for LinearRegression</span></a><span class=\"sk-estimator-doc-link fitted\">i<span>Fitted</span></span></div></label><div class=\"sk-toggleable__content fitted\"><pre>LinearRegression()</pre></div> </div></div></div></div>"
      ],
      "text/plain": [
       "LinearRegression()"
      ]
     },
     "execution_count": 149,
     "metadata": {},
     "output_type": "execute_result"
    }
   ],
   "source": [
    "model_regression.fit(X_train, y_train)"
   ]
  },
  {
   "cell_type": "code",
   "execution_count": 150,
   "id": "814f265b",
   "metadata": {},
   "outputs": [
    {
     "name": "stdout",
     "output_type": "stream",
     "text": [
      "R² = 0.6607083208400601\n"
     ]
    }
   ],
   "source": [
    "print(f'R² = {model_regression.score(X_train, y_train)}')"
   ]
  },
  {
   "cell_type": "code",
   "execution_count": 151,
   "id": "19330591",
   "metadata": {},
   "outputs": [
    {
     "data": {
      "text/plain": [
       "array([3.42596467, 4.22437991, 3.20817647, ..., 3.31426503, 4.23938162,\n",
       "       4.32694438], shape=(503510,))"
      ]
     },
     "execution_count": 151,
     "metadata": {},
     "output_type": "execute_result"
    }
   ],
   "source": [
    "y_previsto = model_regression.predict(X_train)\n",
    "y_previsto"
   ]
  },
  {
   "cell_type": "code",
   "execution_count": 152,
   "id": "f2754174",
   "metadata": {},
   "outputs": [
    {
     "data": {
      "text/plain": [
       "412418    4.239\n",
       "617930    3.433\n",
       "167603    3.590\n",
       "112184    3.660\n",
       "614778    3.459\n",
       "          ...  \n",
       "471919    3.379\n",
       "384475    2.999\n",
       "656429    2.759\n",
       "568038    4.089\n",
       "293185    3.990\n",
       "Name: Valor de Venda, Length: 215790, dtype: float64"
      ]
     },
     "execution_count": 152,
     "metadata": {},
     "output_type": "execute_result"
    }
   ],
   "source": [
    "y_test"
   ]
  },
  {
   "cell_type": "markdown",
   "id": "60ca3e45",
   "metadata": {},
   "source": [
    "Plotando gráficos"
   ]
  },
  {
   "cell_type": "code",
   "execution_count": 153,
   "id": "9bb4a80e",
   "metadata": {},
   "outputs": [],
   "source": [
    "import seaborn as sns\n",
    "import matplotlib.pyplot as plt"
   ]
  },
  {
   "cell_type": "code",
   "execution_count": 154,
   "id": "f0a79fb0",
   "metadata": {},
   "outputs": [
    {
     "data": {
      "text/plain": [
       "(503510, 97)"
      ]
     },
     "execution_count": 154,
     "metadata": {},
     "output_type": "execute_result"
    }
   ],
   "source": [
    "X_train.shape"
   ]
  },
  {
   "cell_type": "code",
   "execution_count": 155,
   "id": "dd426ed0",
   "metadata": {},
   "outputs": [
    {
     "data": {
      "text/plain": [
       "(503510,)"
      ]
     },
     "execution_count": 155,
     "metadata": {},
     "output_type": "execute_result"
    }
   ],
   "source": [
    "y_train.shape"
   ]
  },
  {
   "cell_type": "code",
   "execution_count": 156,
   "id": "28a47a96",
   "metadata": {},
   "outputs": [
    {
     "data": {
      "image/png": "[encoded data removed]",
      "text/plain": [
       "<Figure size 800x600 with 1 Axes>"
      ]
     },
     "metadata": {},
     "output_type": "display_data"
    }
   ],
   "source": [
    "plt.figure(figsize=(8, 6))\n",
    "plt.scatter(y_train, y_previsto, alpha=0.3, color='green')\n",
    "plt.plot([y_train.min(), y_train.max()], [y_train.min(), y_train.max()], 'r--', lw=2)\n",
    "plt.xlabel('Valores reais (y_train)')\n",
    "plt.ylabel('Valores previstos (y_pred)')\n",
    "plt.title('Comparação entre valores reais e previstos')\n",
    "plt.grid(True)\n",
    "plt.show()"
   ]
  },
  {
   "cell_type": "markdown",
   "id": "fc9e7fb8",
   "metadata": {},
   "source": [
    "### Criando simulador simples"
   ]
  },
  {
   "cell_type": "markdown",
   "id": "32872e11",
   "metadata": {},
   "source": [
    "Ajustando o input para ser como strings"
   ]
  },
  {
   "cell_type": "code",
   "execution_count": 173,
   "id": "c66cfb13",
   "metadata": {},
   "outputs": [],
   "source": [
    "colunas_treinamento = df_encoded.columns"
   ]
  },
  {
   "cell_type": "code",
   "execution_count": 198,
   "id": "91f1f554",
   "metadata": {},
   "outputs": [],
   "source": [
    "# validação para que os valores de input sejam 100% existentes na base e adequados\n",
    "def verificar_combinacao_existe(regiao, estado, bandeira, produto, df_base):\n",
    "    filtro = (\n",
    "        (df_base['regiao'] == regiao) &\n",
    "        (df_base['estado'] == estado) &\n",
    "        (df_base['Bandeira'] == bandeira) &\n",
    "        (df_base['Produto'] == produto)\n",
    "    )\n",
    "    if not df_base[filtro].empty:\n",
    "        return True\n",
    "    else:\n",
    "        return False\n"
   ]
  },
  {
   "cell_type": "code",
   "execution_count": 199,
   "id": "7ba72a00",
   "metadata": {},
   "outputs": [],
   "source": [
    "def simular_input_string(regiao, estado, bandeira, produto, modelo, colunas_treinamento, df_base):\n",
    "    # Verifica se a combinação existe na base\n",
    "    if not verificar_combinacao_existe(regiao, estado, bandeira, produto, df_base):\n",
    "        raise ValueError(\n",
    "            f\"❌ Combinação inválida: ({regiao}, {estado}, {bandeira}, {produto})\\n\"\n",
    "            f\"Essa combinação não existe na base de dados. Verifique os valores.\"\n",
    "        )\n",
    "\n",
    "    # Monta o DataFrame da nova entrada\n",
    "    dados_input = pd.DataFrame([{\n",
    "        'regiao': regiao,\n",
    "        'estado': estado,\n",
    "        'Bandeira': bandeira,\n",
    "        'Produto': produto\n",
    "    }])\n",
    "\n",
    "    # Aplica one-hot encoding\n",
    "    dados_encoded = pd.get_dummies(dados_input)\n",
    "\n",
    "    # Garante as mesmas colunas e ordem do treino\n",
    "    dados_encoded = dados_encoded.reindex(columns=colunas_treinamento, fill_value=0)\n",
    "\n",
    "    # Predição\n",
    "    preco_previsto = modelo.predict(dados_encoded)\n",
    "    return preco_previsto[0]"
   ]
  },
  {
   "cell_type": "markdown",
   "id": "2c20a66d",
   "metadata": {},
   "source": [
    "Regiões:\n",
    "'SE', 'NE', 'S', 'N', 'CO'\n",
    "\n",
    "Estados:\n",
    "'SP', 'BA', 'PR', 'AC', 'AL', 'AM', 'AP', 'DF', 'ES', 'GO', 'TO',\n",
    "       'MA', 'MG', 'MS', 'MT', 'PA', 'PB', 'PE', 'PI', 'RJ', 'RO', 'RS',\n",
    "       'SC', 'SE', 'CE', 'RN', 'RR'\n",
    "\n",
    "Bandeiras: \n",
    "'PETROBRAS DISTRIBUIDORA S.A.', 'RODOIL', 'BRANCA', 'SABBÃ\\x81',\n",
    "       'RAIZEN', \"ATEM' S\", 'IPIRANGA', 'ALESAT', 'PETROSERRA', 'HORA',\n",
    "       'ATLÃ\\x82NTICA', 'TOTAL BRASIL', 'RIO BRANCO', 'CIAPETRO', 'IDAZA',\n",
    "       'SIMARELLI', 'EQUADOR', 'TEMAPE', 'DISLUB', 'STANG', 'POTENCIAL',\n",
    "       'CHARRUA', 'RAIZEN MIME', 'REJAILE', 'WALENDOWSKY', 'MAXSUL',\n",
    "       'DIBRAPE', 'TAURUS', 'PETROBAHIA', 'SP', 'MASUT DISTRIBUIDORA',\n",
    "       'TDC DISTRIBUIDORA', 'PODIUM', 'LARCO', 'AMERICANOIL', 'RUFF C.J.',\n",
    "       'SMALL', 'FAN', 'WATT', 'SETTA DISTRIBUIDORA', 'ROYAL FIC',\n",
    "       'FEDERAL', 'UNI', 'TOBRAS', 'PETROX DISTRIBUIDORA', 'D`MAIS',\n",
    "       'RZD DISTRIBUIDORA', 'MONTEPETRO', 'TORRAO', 'PELIKANO',\n",
    "       'GRAN PETRO', 'DINAMO', 'RM PETROLEO', 'ACOL', 'SAARA',\n",
    "       'SUL COMBUSTÃ\\x8dVEIS', 'PETROLUZ', 'PR DISTRIBUIDORA',\n",
    "       'TAG DISTRIBUIDORA'\n",
    "\n",
    "Produtos:\n",
    "'GASOLINA', 'ETANOL', 'DIESEL S10', 'GNV', 'DIESEL',\n",
    "       'GASOLINA ADITIVADA'\n"
   ]
  },
  {
   "cell_type": "code",
   "execution_count": 200,
   "id": "0a16d94e",
   "metadata": {},
   "outputs": [
    {
     "name": "stdout",
     "output_type": "stream",
     "text": [
      "✅ Preço previsto: R$4.11\n"
     ]
    }
   ],
   "source": [
    "# Exemplo com dados válidos\n",
    "try:\n",
    "    preco = simular_input_string(\n",
    "        regiao='SE',\n",
    "        estado='SP',\n",
    "        bandeira='PETROBRAS DISTRIBUIDORA S.A.',\n",
    "        produto='GASOLINA',\n",
    "        modelo=model_regression,                \n",
    "        colunas_treinamento=colunas_treinamento, \n",
    "        df_base=df                               \n",
    "    )\n",
    "    print(f\"✅ Preço previsto: R${preco:.2f}\")\n",
    "except ValueError as e:\n",
    "    print(e)\n"
   ]
  }
 ],
 "metadata": {
  "kernelspec": {
   "display_name": ".venv",
   "language": "python",
   "name": "python3"
  },
  "language_info": {
   "codemirror_mode": {
    "name": "ipython",
    "version": 3
   },
   "file_extension": ".py",
   "mimetype": "text/x-python",
   "name": "python",
   "nbconvert_exporter": "python",
   "pygments_lexer": "ipython3",
   "version": "3.11.4"
  }
 },
 "nbformat": 4,
 "nbformat_minor": 5
}
